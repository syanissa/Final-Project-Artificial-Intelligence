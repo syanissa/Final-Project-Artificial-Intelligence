{
 "cells": [
  {
   "cell_type": "code",
   "execution_count": 43,
   "metadata": {},
   "outputs": [],
   "source": [
    "import librosa\n",
    "import numpy as np\n",
    "from sklearn.preprocessing import LabelEncoder\n",
    "import tensorflow as tf\n",
    "from tensorflow import keras"
   ]
  },
  {
   "cell_type": "code",
   "execution_count": 44,
   "metadata": {},
   "outputs": [],
   "source": [
    "def extract_features_with_timing(file_path, start_time, end_time):\n",
    "    audio, sample_rate = librosa.load(file_path, offset=start_time, duration=end_time - start_time, res_type='kaiser_fast')\n",
    "    features = np.mean(librosa.feature.mfcc(y=audio, sr=sample_rate, n_mfcc=40).T, axis=0)\n",
    "    return features\n"
   ]
  },
  {
   "cell_type": "code",
   "execution_count": 45,
   "metadata": {},
   "outputs": [],
   "source": [
    "# Predict Class\n",
    "def predict_calsses_for_audio(file_path, model_path, class_path):\n",
    "    model = keras.models.load_model(model_path)\n",
    "    label_encoder = LabelEncoder()\n",
    "    label_encoder.classes_ = np.load(class_path, allow_pickle=True)\n",
    "\n",
    "    #Ekstrak MFCC\n",
    "    features = extract_features_with_timing(file_path, start_time=0, end_time=librosa.get_duration(path=file_path))\n",
    "    features = features.reshape(1, -1)\n",
    "\n",
    "    predictions = model.predict(features)\n",
    "\n",
    "    total_duration = librosa.get_duration(path=file_path)\n",
    "    class_percentages = {class_label: percentage * 100 for class_label, percentage in zip(label_encoder.classes_, predictions[0])}\n",
    "\n",
    "    return class_percentages"
   ]
  },
  {
   "cell_type": "code",
   "execution_count": 46,
   "metadata": {},
   "outputs": [
    {
     "name": "stdout",
     "output_type": "stream",
     "text": [
      "1/1 [==============================] - 0s 81ms/step\n",
      "Class: alarm, Percentage:  1.07%\n",
      "Class: baby, Percentage:  0.00%\n",
      "Class: crash, Percentage:  0.87%\n",
      "Class: dog, Percentage:  0.01%\n",
      "Class: engine, Percentage:  70.75%\n",
      "Class: femaleScream, Percentage:  0.00%\n",
      "Class: femaleSpeech, Percentage:  0.13%\n",
      "Class: fire, Percentage:  0.09%\n",
      "Class: footsteps, Percentage:  0.10%\n",
      "Class: general, Percentage:  20.48%\n",
      "Class: knock, Percentage:  4.55%\n",
      "Class: maleScream, Percentage:  0.00%\n",
      "Class: maleSpeech, Percentage:  0.04%\n",
      "Class: phone, Percentage:  0.00%\n",
      "Class: piano, Percentage:  1.90%\n",
      "\n",
      "There is high  possibilities this is a engine sound with percentage  70.75%\n"
     ]
    }
   ],
   "source": [
    "audio_path = \"DATA_NIGENS\\engine\\AMBULANCE_GEN-HDF-00814.wav\"\n",
    "\n",
    "model_path = \"testModel.keras\"\n",
    "class_path = \"label_encoderTest.joblib\"\n",
    "class_percentages = predict_calsses_for_audio(audio_path, model_path, class_path)\n",
    "\n",
    "highest_class_label = None\n",
    "highest_percentage = 0\n",
    "\n",
    "for class_label, percentage in class_percentages.items():\n",
    "    print(f\"Class: {class_label}, Percentage: {percentage: .2f}%\")\n",
    "\n",
    "    if percentage > highest_percentage:\n",
    "        highest_percentage = percentage\n",
    "        highest_class_label = class_label\n",
    "if highest_class_label:\n",
    "    print(f\"\\nThere is high  possibilities this is a {highest_class_label} sound with percentage {highest_percentage: .2f}%\")"
   ]
  }
 ],
 "metadata": {
  "kernelspec": {
   "display_name": "Speech_Recognition",
   "language": "python",
   "name": "python3"
  },
  "language_info": {
   "codemirror_mode": {
    "name": "ipython",
    "version": 3
   },
   "file_extension": ".py",
   "mimetype": "text/x-python",
   "name": "python",
   "nbconvert_exporter": "python",
   "pygments_lexer": "ipython3",
   "version": "3.10.9"
  }
 },
 "nbformat": 4,
 "nbformat_minor": 2
}
